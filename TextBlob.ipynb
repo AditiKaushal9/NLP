{
 "cells": [
  {
   "cell_type": "markdown",
   "metadata": {},
   "source": [
    "# Assignment 2\n",
    "\n",
    "**Question 1.** Write a python program using Textblob in which find out the parts-of-speech(pos) tagging from the following sentence.\n",
    "\n",
    "\"Susie works in a shoeshine shop. Where she shines she sits, and where she sits she shines\"\n",
    "\n",
    "\n"
   ]
  },
  {
   "cell_type": "code",
   "execution_count": 1,
   "metadata": {},
   "outputs": [],
   "source": [
    "# !pip install textblob\n",
    "# !python -m textblob.download_corpora"
   ]
  },
  {
   "cell_type": "code",
   "execution_count": 2,
   "metadata": {},
   "outputs": [
    {
     "name": "stdout",
     "output_type": "stream",
     "text": [
      "[('Susie', 'NNP'), ('works', 'VBZ'), ('in', 'IN'), ('a', 'DT'), ('shoeshine', 'NN'), ('shop', 'NN'), ('Where', 'WRB'), ('she', 'PRP'), ('shines', 'VBZ'), ('she', 'PRP'), ('sits', 'VBZ'), ('and', 'CC'), ('where', 'WRB'), ('she', 'PRP'), ('sits', 'VBZ'), ('she', 'PRP'), ('shines', 'NNS')]\n"
     ]
    }
   ],
   "source": [
    "inp=\"Susie works in a shoeshine shop. Where she shines she sits, and where she sits she shines\"\n",
    "\n",
    "from textblob import TextBlob\n",
    "def pos(data):\n",
    "    text=TextBlob(data)\n",
    "    return text.tags\n",
    "\n",
    "print(pos(inp))"
   ]
  },
  {
   "cell_type": "markdown",
   "metadata": {},
   "source": [
    "**Question 2.** Write a python program using the textblob to find out the count of the common words from the following sentence.\n",
    "\n",
    "\"How much wood would a woodchuck chuck if a woodchuck could chuck wood?\n",
    "He would chuck, he would, as much as he could, and chuck as much wood\n",
    "As a woodchuck would if a woodchuck could chuck wood\"\n",
    "\n",
    "Find it out how many times 'wood' came in the sentence.\n",
    "\n"
   ]
  },
  {
   "cell_type": "code",
   "execution_count": 3,
   "metadata": {},
   "outputs": [
    {
     "name": "stdout",
     "output_type": "stream",
     "text": [
      "Word - Count\n",
      "[('wood', 3)]\n",
      "\n",
      "\n",
      "{('he', 3), ('much', 3), ('He', 3), ('as', 4), ('if', 2), ('chuck', 4), ('could', 2), ('would', 3), ('wood', 3), ('As', 4), ('a', 4), ('woodchuck', 4)}\n",
      "\n",
      "\n"
     ]
    }
   ],
   "source": [
    "inp=\"How much wood would a woodchuck chuck if a woodchuck could chuck wood? He would chuck, he would, as much as he could, and chuck as much wood As a woodchuck would if a woodchuck could chuck wood\"\n",
    "\n",
    "\n",
    "def common_words(data,word=''):\n",
    "    text=TextBlob(data)\n",
    "    new=[]\n",
    "    if word=='':\n",
    "        for i in text.split():\n",
    "            a=text.split().count(i)\n",
    "            if a>1:\n",
    "                new.append((i,a))\n",
    "        return set(new)\n",
    "    else:\n",
    "        if word in text.split():\n",
    "            a=text.split().count(word)\n",
    "            new.append((word,a))\n",
    "        return new\n",
    "    \n",
    "    \n",
    "print('Word','-','Count')\n",
    "print(common_words(inp,'wood'))\n",
    "print('\\n') \n",
    "print(common_words(inp,''))\n",
    "print('\\n')"
   ]
  },
  {
   "cell_type": "markdown",
   "metadata": {},
   "source": [
    "**Question 3.** Translate the following sentences in your own language using the textblob.\n",
    "\n",
    "\"Data is a new oil.\", \"A.I is the last invention\", \"She sells seashells by the seashore\", \"He threw three free throws\".\n"
   ]
  },
  {
   "cell_type": "code",
   "execution_count": 4,
   "metadata": {},
   "outputs": [
    {
     "name": "stdout",
     "output_type": "stream",
     "text": [
      "Hindi Translation - \n",
      "डेटा एक नया तेल है।\n",
      "\n",
      "\n",
      "Punjabi Translation - \n",
      "ਉਸਨੇ ਤਿੰਨ ਮੁਫਤ ਸੁੱਟ ਦਿੱਤੇ\n",
      "\n",
      "\n",
      "German Translation - \n",
      "Sie verkauft Muscheln an der Küste\n",
      "\n",
      "\n",
      "French Translation - \n",
      "A.I est la dernière invention\n",
      "\n",
      "\n"
     ]
    }
   ],
   "source": [
    "#\"Data is a new oil.\", \"A.I is the last invention\", \"She sells seashells by the seashore\", \"He threw three free throws\".\n",
    "\n",
    "def translate(data,lang):\n",
    "    text=TextBlob(data)\n",
    "    return text.translate(to=lang)\n",
    "\n",
    "print(\"Hindi Translation - \")\n",
    "print(translate(\"Data is a new oil.\",'hi'))\n",
    "print('\\n')\n",
    "print(\"Punjabi Translation - \")\n",
    "print(translate(\"He threw three free throws\",'pa'))\n",
    "print('\\n')\n",
    "print(\"German Translation - \")\n",
    "print(translate(\"She sells seashells by the seashore\",'de'))\n",
    "print('\\n')\n",
    "print(\"French Translation - \")\n",
    "print(translate(\"A.I is the last invention\",'fr'))\n",
    "print('\\n')"
   ]
  },
  {
   "cell_type": "markdown",
   "metadata": {},
   "source": [
    "**Question 4.** Create a spell checker program using the textblob library with using your own sentences."
   ]
  },
  {
   "cell_type": "code",
   "execution_count": 5,
   "metadata": {},
   "outputs": [
    {
     "name": "stdout",
     "output_type": "stream",
     "text": [
      " I love listening to music . It helps me feel good .\n"
     ]
    }
   ],
   "source": [
    "sent=\"I lov listeing to musik. It hlps me feeel goad.\"\n",
    "\n",
    "import nltk\n",
    "from textblob import Word\n",
    "\n",
    "def spellchecker(inp):\n",
    "    text=nltk.word_tokenize(inp)\n",
    "    c=''\n",
    "    for i in text:\n",
    "        b=Word(i).spellcheck()[0][0]\n",
    "        c+=' '+b\n",
    "    return c\n",
    "    \n",
    "print(spellchecker(sent))"
   ]
  }
 ],
 "metadata": {
  "kernelspec": {
   "display_name": "Python 3",
   "language": "python",
   "name": "python3"
  },
  "language_info": {
   "codemirror_mode": {
    "name": "ipython",
    "version": 3
   },
   "file_extension": ".py",
   "mimetype": "text/x-python",
   "name": "python",
   "nbconvert_exporter": "python",
   "pygments_lexer": "ipython3",
   "version": "3.7.6"
  }
 },
 "nbformat": 4,
 "nbformat_minor": 4
}
